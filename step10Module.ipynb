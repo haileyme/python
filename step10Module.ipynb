{
 "cells": [
  {
   "cell_type": "markdown",
   "metadata": {},
   "source": [
    "### 모듈이란?\n",
    "\n",
    "> 1. 함수나 변수들을 모아 놓은 library들 의미<br>\n",
    "1-1. 외부 library 사용하는 방법, 외부에 내 코드를 공유하는 방법\n",
    "\n",
    "> 2. 모듈 사용 방법 <br>\n",
    "2-1. 모듈의 파일 확장자 : py <br>\n",
    "2-2. 모듈 사용 문법<br>\n",
    "  &nbsp;&nbsp;&nbsp; a. import file명 <br>\n",
    "  &nbsp;&nbsp;&nbsp; b. from file명 import 함수명<br>\n"
   ]
  },
  {
   "cell_type": "code",
   "execution_count": null,
   "metadata": {},
   "outputs": [],
   "source": [
    "%%writefile fibo.py\n",
    "print('파이썬도 꽤 까다롭네')\n",
    "\n",
    "#피보나치 수열 모듈 개발\n",
    "def fib(n):\n",
    "    a, b = 0, 1\n",
    "    while b < n:\n",
    "        print(b, end = ' ')\n",
    "        a, b = b, a+b"
   ]
  },
  {
   "cell_type": "code",
   "execution_count": null,
   "metadata": {},
   "outputs": [],
   "source": [
    "# JAVA에서 제일 먼저 실행되는 메소드 : main\n",
    "# 아래는 python 명령어로 직접 호출 시에만 자동 실행되는 특수 문법\n",
    "# 외부에서 모듈로 import할 경우에는 무시\n",
    "\n",
    "if __name__ == '__main__' :\n",
    "    print('python을 직접 명령어로 실행 시 자동 호출되는 영역')"
   ]
  },
  {
   "cell_type": "code",
   "execution_count": null,
   "metadata": {
    "scrolled": true
   },
   "outputs": [],
   "source": [
    "# local directory에서 해당 파일 생성내역 확인\n",
    "!dir\n",
    "\n",
    "# DOS에서 해당 파일 호출\n",
    "!python fibo.py"
   ]
  },
  {
   "cell_type": "code",
   "execution_count": null,
   "metadata": {},
   "outputs": [],
   "source": [
    "# 파이썬 모듈 호출하는 방법\n",
    "# 파일명으로만 모듈 import (파일명.함수명)\n",
    "import fibo\n",
    "\n",
    "fibo.fib(10)"
   ]
  },
  {
   "cell_type": "code",
   "execution_count": null,
   "metadata": {},
   "outputs": [],
   "source": [
    "# 파이썬 모듈 호출하는 방법\n",
    "# from 모듈 improt 함수명\n",
    "from fibo import fib\n",
    "\n",
    "fib(10)"
   ]
  },
  {
   "cell_type": "code",
   "execution_count": null,
   "metadata": {},
   "outputs": [],
   "source": [
    "# 파이썬 모듈 호출하는 방법\n",
    "# 단, 모듈 내부의 다수 함수를 사용할 경우 아니면 권장하지 않음\n",
    "from fibo import *\n",
    "fib(20)"
   ]
  },
  {
   "cell_type": "code",
   "execution_count": null,
   "metadata": {},
   "outputs": [],
   "source": [
    "# jupyter notebook에서 py 생성하는 명령어\n",
    "%%writefile mymath.py\n",
    "\n",
    "mypi = 3.14\n",
    "def add(a,b):\n",
    "    return a+b\n",
    "\n",
    "def area(r):\n",
    "    return r*r*mypi"
   ]
  },
  {
   "cell_type": "code",
   "execution_count": null,
   "metadata": {},
   "outputs": [],
   "source": [
    "!dir"
   ]
  },
  {
   "cell_type": "code",
   "execution_count": null,
   "metadata": {},
   "outputs": [],
   "source": [
    "from mymath import add\n",
    "\n",
    "print(add(10, 20))"
   ]
  },
  {
   "cell_type": "code",
   "execution_count": null,
   "metadata": {},
   "outputs": [],
   "source": [
    "#절대 가져오기 : sys.path변수에 정해진 순서대로  가져옴\n",
    "#상대 가져오기 : 현재모듈에 속해있는 패키지를 기준으로 상대적인 위치에서 가져올 모듈을 찾는다.\n",
    "import math  #math는 모듈이름   math.pi\n",
    "from math import sin, cos, pi #math모듈에서 특정이름만을 현재 이름공간으로 가져온다.  pi\n",
    "from math import *\n",
    "import numpy as np #모듈이름을 다른 이름으로 사용하고자 하는 경우. 이름이 너무 길거나 이름이 충돌된 경우 \n",
    "from math import factorial as fact #모듈내의 정의한 이름을 다른 이름으로 사용하고자 하는 경우  \n",
    "from math import factorial as fact , sqrt as sq"
   ]
  },
  {
   "cell_type": "code",
   "execution_count": 1,
   "metadata": {},
   "outputs": [
    {
     "name": "stdout",
     "output_type": "stream",
     "text": [
      "파이썬도 꽤 까다롭네\n",
      "1 1 2 3 5 8 "
     ]
    }
   ],
   "source": [
    "# 별칭 부여하기\n",
    "import fibo as f\n",
    "f.fib(10)"
   ]
  }
 ],
 "metadata": {
  "kernelspec": {
   "display_name": "Python 3",
   "language": "python",
   "name": "python3"
  },
  "language_info": {
   "codemirror_mode": {
    "name": "ipython",
    "version": 3
   },
   "file_extension": ".py",
   "mimetype": "text/x-python",
   "name": "python",
   "nbconvert_exporter": "python",
   "pygments_lexer": "ipython3",
   "version": "3.7.0"
  }
 },
 "nbformat": 4,
 "nbformat_minor": 2
}
