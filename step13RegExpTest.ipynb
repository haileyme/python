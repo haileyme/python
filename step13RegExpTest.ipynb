{
 "cells": [
  {
   "cell_type": "markdown",
   "metadata": {},
   "source": [
    "# [문자 클래스]\n",
    "\n",
    "1. [abc] - a, b, c중 한 개의 문자와 매치\n",
    "  - a : 매치여부 OK\n",
    "  - apple : ok\n",
    "  - double : no\n",
    "\n",
    "2. \\d   : 숫자와 매치, [0-9]와 동일\n",
    "\n",
    "3. \\D : 숫자가 아닌 것과 매치 [^0-9]와 동일\n",
    "\n",
    "4. \\s : whitespace 문자와 매치\n",
    "\n",
    "5. \\S : whitespace 문자가 아닌것과 매치, \n",
    "\n",
    "6. \\w : 문잦 + 숫자와 매치, [a-zA-Z0-9]와 동일\n",
    "\n",
    "7. \\W : 문자+숫자가 아닌 문자와 매치. [^a-zA-Z0-9]와 동일\n",
    "  \n",
    "\n",
    "\n",
    "8. a.b : a와 b 사이에 줄바꿈 문자를 제외한 모든 문자 허용\n",
    "\n",
    "9. a[.]b : a와 b 사이에 dot 문자만 허용\n",
    "\n",
    "10. ca*t  : a 문자가 0번 이상 반복 허용\n",
    "\n",
    "11. ca+t :  a 문자가 1번 이상 반복 허용\n",
    "\n",
    "12. ca?t : a 문자가 없거나, 1번만 허용\n",
    "\n",
    "13. ca{3}t : a 문자가 3번 반복되면 매치\n",
    "\n",
    "14. ca{2, 3}t : a 문자가 2~3번 반복되면 매치"
   ]
  },
  {
   "cell_type": "code",
   "execution_count": 4,
   "metadata": {},
   "outputs": [],
   "source": [
    "import re"
   ]
  },
  {
   "cell_type": "code",
   "execution_count": 2,
   "metadata": {},
   "outputs": [],
   "source": [
    "pattern = re.compile('[^ab]') # ab 아닌지 검증하여 아닌 것들만 반환 # ^ab는 ab로 시작하는 조건"
   ]
  },
  {
   "cell_type": "code",
   "execution_count": 6,
   "metadata": {},
   "outputs": [],
   "source": [
    "pattern.match('abc')"
   ]
  },
  {
   "cell_type": "code",
   "execution_count": 5,
   "metadata": {},
   "outputs": [
    {
     "data": {
      "text/plain": [
       "<re.Match object; span=(0, 1), match='c'>"
      ]
     },
     "execution_count": 5,
     "metadata": {},
     "output_type": "execute_result"
    }
   ],
   "source": [
    "pattern.match('cab')"
   ]
  },
  {
   "cell_type": "markdown",
   "metadata": {},
   "source": [
    "### 정규표현식 연습문제 1\n",
    "encore를 정규표현식으로 표현하라."
   ]
  },
  {
   "cell_type": "code",
   "execution_count": 54,
   "metadata": {},
   "outputs": [],
   "source": [
    "en = re.compile('e[a-z]+e')"
   ]
  },
  {
   "cell_type": "code",
   "execution_count": 55,
   "metadata": {},
   "outputs": [
    {
     "data": {
      "text/plain": [
       "<re.Match object; span=(0, 6), match='encore'>"
      ]
     },
     "execution_count": 55,
     "metadata": {},
     "output_type": "execute_result"
    }
   ],
   "source": [
    "en.match('encore')"
   ]
  },
  {
   "cell_type": "markdown",
   "metadata": {},
   "source": [
    "### 정규표현식 연습문제 2\n",
    " data로 시작하고 바로 whitespace가 나온 후 문자 또는 숫자가 올 수 있는 문자를 정규표현식으로 표현하라."
   ]
  },
  {
   "cell_type": "code",
   "execution_count": 40,
   "metadata": {},
   "outputs": [],
   "source": [
    "answer = re.compile('^data\\s\\w+')"
   ]
  },
  {
   "cell_type": "code",
   "execution_count": 41,
   "metadata": {},
   "outputs": [
    {
     "data": {
      "text/plain": [
       "<re.Match object; span=(0, 10), match='data theta'>"
      ]
     },
     "execution_count": 41,
     "metadata": {},
     "output_type": "execute_result"
    }
   ],
   "source": [
    "answer.search('data theta')"
   ]
  },
  {
   "cell_type": "markdown",
   "metadata": {},
   "source": [
    "### 정규표현식 연습문제 3\n",
    " 전화번호 형태의 정규표현식 만들어보기 <br>\n",
    " \n",
    " 1. 000-0000-0000 <br>\n",
    " 2. 이름 000-0000-0000"
   ]
  },
  {
   "cell_type": "code",
   "execution_count": 49,
   "metadata": {},
   "outputs": [],
   "source": [
    "# 문제 3-1\n",
    "phone = re.compile('\\d{3}-\\d{4}-\\d{4}')"
   ]
  },
  {
   "cell_type": "code",
   "execution_count": 50,
   "metadata": {},
   "outputs": [
    {
     "data": {
      "text/plain": [
       "<re.Match object; span=(0, 13), match='010-2342-0241'>"
      ]
     },
     "execution_count": 50,
     "metadata": {},
     "output_type": "execute_result"
    }
   ],
   "source": [
    "phone.match('010-2342-0241')"
   ]
  },
  {
   "cell_type": "code",
   "execution_count": 51,
   "metadata": {},
   "outputs": [],
   "source": [
    "# 문제 3-2\n",
    "nphone = re.compile('\\w*\\s\\d{3}-\\d{4}-\\d{4}')"
   ]
  },
  {
   "cell_type": "code",
   "execution_count": 52,
   "metadata": {},
   "outputs": [
    {
     "data": {
      "text/plain": [
       "<re.Match object; span=(0, 16), match='키티 010-2423-1234'>"
      ]
     },
     "execution_count": 52,
     "metadata": {},
     "output_type": "execute_result"
    }
   ],
   "source": [
    "nphone.match('키티 010-2423-1234')"
   ]
  },
  {
   "cell_type": "markdown",
   "metadata": {},
   "source": [
    "### 정규표현식 연습문제 4\n",
    " 제시된 실행결과를 보고, 삽입되어야 할 정규표현식을 완성하라. <br>\n",
    " \n",
    " > 투입 : one two three\n",
    " - 결과 : 검색된 데이터 : two <br>\n",
    " - 참고 : 매치된 문자열을 반환하는 group()"
   ]
  },
  {
   "cell_type": "code",
   "execution_count": 72,
   "metadata": {},
   "outputs": [
    {
     "name": "stdout",
     "output_type": "stream",
     "text": [
      "검색된 데이터 :  two\n"
     ]
    }
   ],
   "source": [
    "p = re.compile('t\\w+')\n",
    "# 데이터가 존재하면 데이터 반환, 미존재하면 None 반환\n",
    "m = p.search('one two three')\n",
    "if m != None:\n",
    "    print('검색된 데이터 : ', m.group())\n",
    "else:\n",
    "    print('검색 불가')"
   ]
  },
  {
   "cell_type": "markdown",
   "metadata": {},
   "source": [
    "### 정규표현식 연습문제 5\n",
    "  문자열에서 'Python one'만을 추출하는 정규표현식 및 패턴 만들기"
   ]
  },
  {
   "cell_type": "code",
   "execution_count": 21,
   "metadata": {
    "scrolled": true
   },
   "outputs": [
    {
     "name": "stdout",
     "output_type": "stream",
     "text": [
      "['python one', 'python two', 'python three']\n"
     ]
    }
   ],
   "source": [
    "p = re.compile('^python\\s\\w+', re.MULTILINE)\n",
    "m = p.findall('''python one\n",
    "Life is two short\n",
    "python two\n",
    "You need python\n",
    "python three''')\n",
    "              \n",
    "if m != None:\n",
    "    print(m)\n",
    "else:\n",
    "    print('?')"
   ]
  },
  {
   "cell_type": "markdown",
   "metadata": {},
   "source": [
    "### 정규표현식 연습문제 6\n",
    "  입력되는 데이터값을 주민등록 구조에 맞게 검증하고, 뒷자리는 \\* 처리하기 <br>\n",
    "  검증되는 데이터 구조 : 000000-0000000\n",
    "  \n",
    "  > 참고 <br>\n",
    "  1. \\d{숫자} : 숫자 및 숫자 자리수 표현 <br>\n",
    "  2. sub(pattern, '변경하게 될 데이터', 원본데이터)"
   ]
  },
  {
   "cell_type": "code",
   "execution_count": 33,
   "metadata": {},
   "outputs": [
    {
     "name": "stdout",
     "output_type": "stream",
     "text": [
      "000000-0000000\n",
      "000000-*******\n"
     ]
    }
   ],
   "source": [
    "data1 = input()\n",
    "pattern = re.compile('\\d{6}-\\d{7}')\n",
    "\n",
    "if pattern.match(data1) == None:\n",
    "    print('무효')\n",
    "else:\n",
    "    data = re.sub('-\\w+', '-*******', data1)\n",
    "    print(data)"
   ]
  },
  {
   "cell_type": "markdown",
   "metadata": {},
   "source": [
    "### 데이터 그룹핑\n",
    "\n",
    "1. 데이터 그룹핑이란? <br>\n",
    "  특정 데이터가 계속해서 반복하는지 조사할 때 사용하는 정규표현식 <br>\n",
    "2. 그룹핑 표기 : () <br><br>\n",
    "\n",
    "> 그룹핑 관련 함수 <br>\n",
    "1. group(): 매치된 전체 문자열\n",
    "2. group(1): 첫번째 그룹에 해당하는 문자열\n",
    "3. group(n): n번째 그룹에 해당하는 문자열"
   ]
  },
  {
   "cell_type": "markdown",
   "metadata": {},
   "source": [
    "### 정규표현식 연습문제 7\n",
    "\n",
    "1. '파일명.확장자' 패턴을 구성"
   ]
  },
  {
   "cell_type": "code",
   "execution_count": 35,
   "metadata": {},
   "outputs": [],
   "source": [
    "import re"
   ]
  },
  {
   "cell_type": "code",
   "execution_count": 44,
   "metadata": {},
   "outputs": [
    {
     "name": "stdout",
     "output_type": "stream",
     "text": [
      "<re.Match object; span=(0, 8), match='test.zip'>\n"
     ]
    }
   ],
   "source": [
    "# '파일명.확장자' 패턴 구성\n",
    "pattern = re.compile('.+[.].+')\n",
    "data = pattern.match('test.zip')\n",
    "print(data)"
   ]
  },
  {
   "cell_type": "code",
   "execution_count": 47,
   "metadata": {},
   "outputs": [
    {
     "name": "stdout",
     "output_type": "stream",
     "text": [
      "<re.Match object; span=(0, 8), match='test.zip'>\n",
      "None\n"
     ]
    }
   ],
   "source": [
    "# '파일명.확장자' 패턴 구성\n",
    "# 단, bat는 제외\n",
    "\n",
    "pattern = re.compile('.+[.][^b].+')\n",
    "data1 = pattern.match('test.zip')\n",
    "data2 = pattern.match('test.bat')\n",
    "\n",
    "print(data1)\n",
    "print(data2)"
   ]
  }
 ],
 "metadata": {
  "kernelspec": {
   "display_name": "Python 3",
   "language": "python",
   "name": "python3"
  },
  "language_info": {
   "codemirror_mode": {
    "name": "ipython",
    "version": 3
   },
   "file_extension": ".py",
   "mimetype": "text/x-python",
   "name": "python",
   "nbconvert_exporter": "python",
   "pygments_lexer": "ipython3",
   "version": "3.7.0"
  }
 },
 "nbformat": 4,
 "nbformat_minor": 2
}
