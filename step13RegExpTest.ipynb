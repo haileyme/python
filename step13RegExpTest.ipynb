{
 "cells": [
  {
   "cell_type": "markdown",
   "metadata": {},
   "source": [
    "# [문자 클래스]\n",
    "\n",
    "1. [abc] - a, b, c중 한 개의 문자와 매치\n",
    "  - a : 매치여부 OK\n",
    "  - apple : ok\n",
    "  - double : no\n",
    "\n",
    "2. \\d   : 숫자와 매치, [0-9]와 동일\n",
    "\n",
    "3. \\D : 숫자가 아닌 것과 매치 [^0-9]와 동일\n",
    "\n",
    "4. \\s : whitespace 문자와 매치\n",
    "\n",
    "5. \\S : whitespace 문자가 아닌것과 매치, \n",
    "\n",
    "6. \\w : 문잦 + 숫자와 매치, [a-zA-Z0-9]와 동일\n",
    "\n",
    "7. \\W : 문자+숫자가 아닌 문자와 매치. [^a-zA-Z0-9]와 동일\n",
    "  \n",
    "\n",
    "\n",
    "8. a.b : a와 b 사이에 줄바꿈 문자를 제외한 모든 문자 허용\n",
    "\n",
    "9. a[.]b : a와 b 사이에 dot 문자만 허용\n",
    "\n",
    "10. ca*t  : a 문자가 0번 이상 반복 허용\n",
    "\n",
    "11. ca+t :  a 문자가 1번 이상 반복 허용\n",
    "\n",
    "12. ca?t : a 문자가 없거나, 1번만 허용\n",
    "\n",
    "13. ca{3}t : a 문자가 3번 반복되면 매치\n",
    "\n",
    "14. ca{2, 3}t : a 문자가 2~3번 반복되면 매치"
   ]
  },
  {
   "cell_type": "code",
   "execution_count": 1,
   "metadata": {},
   "outputs": [],
   "source": [
    "import re"
   ]
  },
  {
   "cell_type": "code",
   "execution_count": 2,
   "metadata": {},
   "outputs": [],
   "source": [
    "pattern = re.compile('[^ab]') # ab 아닌지 검증하여 아닌 것들만 반환 # ^ab는 ab로 시작하는 조건"
   ]
  },
  {
   "cell_type": "code",
   "execution_count": 6,
   "metadata": {},
   "outputs": [],
   "source": [
    "pattern.match('abc')"
   ]
  },
  {
   "cell_type": "code",
   "execution_count": 5,
   "metadata": {},
   "outputs": [
    {
     "data": {
      "text/plain": [
       "<re.Match object; span=(0, 1), match='c'>"
      ]
     },
     "execution_count": 5,
     "metadata": {},
     "output_type": "execute_result"
    }
   ],
   "source": [
    "pattern.match('cab')"
   ]
  },
  {
   "cell_type": "markdown",
   "metadata": {},
   "source": [
    "### 정규표현식 연습문제 1\n",
    "encore를 정규표현식으로 표현하라."
   ]
  },
  {
   "cell_type": "code",
   "execution_count": 54,
   "metadata": {},
   "outputs": [],
   "source": [
    "en = re.compile('e[a-z]+e')"
   ]
  },
  {
   "cell_type": "code",
   "execution_count": 55,
   "metadata": {},
   "outputs": [
    {
     "data": {
      "text/plain": [
       "<re.Match object; span=(0, 6), match='encore'>"
      ]
     },
     "execution_count": 55,
     "metadata": {},
     "output_type": "execute_result"
    }
   ],
   "source": [
    "en.match('encore')"
   ]
  },
  {
   "cell_type": "markdown",
   "metadata": {},
   "source": [
    "### 정규표현식 연습문제 2\n",
    " data로 시작하고 바로 whitespace가 나온 후 문자 또는 숫자가 올 수 있는 문자를 정규표현식으로 표현하라."
   ]
  },
  {
   "cell_type": "code",
   "execution_count": 40,
   "metadata": {},
   "outputs": [],
   "source": [
    "answer = re.compile('^data\\s\\w+')"
   ]
  },
  {
   "cell_type": "code",
   "execution_count": 41,
   "metadata": {},
   "outputs": [
    {
     "data": {
      "text/plain": [
       "<re.Match object; span=(0, 10), match='data theta'>"
      ]
     },
     "execution_count": 41,
     "metadata": {},
     "output_type": "execute_result"
    }
   ],
   "source": [
    "answer.search('data theta')"
   ]
  },
  {
   "cell_type": "markdown",
   "metadata": {},
   "source": [
    "### 정규표현식 연습문제 3\n",
    " 전화번호 형태의 정규표현식 만들어보기 <br>\n",
    " \n",
    " 1. 000-0000-0000 <br>\n",
    " 2. 이름 000-0000-0000"
   ]
  },
  {
   "cell_type": "code",
   "execution_count": 49,
   "metadata": {},
   "outputs": [],
   "source": [
    "# 문제 3-1\n",
    "phone = re.compile('\\d{3}-\\d{4}-\\d{4}')"
   ]
  },
  {
   "cell_type": "code",
   "execution_count": 50,
   "metadata": {},
   "outputs": [
    {
     "data": {
      "text/plain": [
       "<re.Match object; span=(0, 13), match='010-2342-0241'>"
      ]
     },
     "execution_count": 50,
     "metadata": {},
     "output_type": "execute_result"
    }
   ],
   "source": [
    "phone.match('010-2342-0241')"
   ]
  },
  {
   "cell_type": "code",
   "execution_count": 51,
   "metadata": {},
   "outputs": [],
   "source": [
    "# 문제 3-2\n",
    "nphone = re.compile('\\w*\\s\\d{3}-\\d{4}-\\d{4}')"
   ]
  },
  {
   "cell_type": "code",
   "execution_count": 52,
   "metadata": {},
   "outputs": [
    {
     "data": {
      "text/plain": [
       "<re.Match object; span=(0, 16), match='키티 010-2423-1234'>"
      ]
     },
     "execution_count": 52,
     "metadata": {},
     "output_type": "execute_result"
    }
   ],
   "source": [
    "nphone.match('키티 010-2423-1234')"
   ]
  },
  {
   "cell_type": "markdown",
   "metadata": {},
   "source": [
    "### 정규표현식 연습문제 4\n",
    " 제시된 실행결과를 보고, 삽입되어야 할 정규표현식을 완성하라. <br>\n",
    " \n",
    " > 투입 : one two three\n",
    " - 결과 : 검색된 데이터 : two <br>\n",
    " - 참고 : 매치된 문자열을 반환하는 group()"
   ]
  },
  {
   "cell_type": "code",
   "execution_count": 72,
   "metadata": {},
   "outputs": [
    {
     "name": "stdout",
     "output_type": "stream",
     "text": [
      "검색된 데이터 :  two\n"
     ]
    }
   ],
   "source": [
    "p = re.compile('t\\w+')\n",
    "# 데이터가 존재하면 데이터 반환, 미존재하면 None 반환\n",
    "m = p.search('one two three')\n",
    "if m != None:\n",
    "    print('검색된 데이터 : ', m.group())\n",
    "else:\n",
    "    print('검색 불가')"
   ]
  },
  {
   "cell_type": "markdown",
   "metadata": {},
   "source": [
    "### 정규표현식 연습문제 5\n",
    "  문자열에서 'Python one'만을 추출하는 정규표현식 및 패턴 만들기"
   ]
  },
  {
   "cell_type": "code",
   "execution_count": 95,
   "metadata": {},
   "outputs": [
    {
     "name": "stdout",
     "output_type": "stream",
     "text": [
      "['Python one']\n"
     ]
    }
   ],
   "source": [
    "p = re.compile('P\\w+\\s+o\\w+')\n",
    "m = p.findall('Python one Life is two short Python two You need Python Python three')\n",
    "              \n",
    "if m != None:\n",
    "    print(m)\n",
    "else:\n",
    "    print('?')"
   ]
  }
 ],
 "metadata": {
  "kernelspec": {
   "display_name": "Python 3",
   "language": "python",
   "name": "python3"
  },
  "language_info": {
   "codemirror_mode": {
    "name": "ipython",
    "version": 3
   },
   "file_extension": ".py",
   "mimetype": "text/x-python",
   "name": "python",
   "nbconvert_exporter": "python",
   "pygments_lexer": "ipython3",
   "version": "3.7.0"
  }
 },
 "nbformat": 4,
 "nbformat_minor": 2
}
