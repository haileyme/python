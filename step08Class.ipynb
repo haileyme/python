{
 "cells": [
  {
   "cell_type": "markdown",
   "metadata": {},
   "source": [
    "# 사용자 정의 클래스 개발\n",
    "\n",
    "1. 주요 키워드 및 기호 : self, __\n",
    "2. 문법 : <br>\n",
    " - 파이썬 : 멤버변수, __init__(), 사용자정의함수명, __str__(), 상위클래스-Object <br>\n",
    " - 자바 : 멤버변수, 기본생성자, 생성자, getXxx(), setXxx(), toString()... <br>\n",
    "    데이터 표현을 위한 클래스 DTO, VO, Bean"
   ]
  },
  {
   "cell_type": "markdown",
   "metadata": {},
   "source": [
    "### 파이썬 클래스\n",
    "\n",
    "1. 사용자 정의 클래스 개발 방법 <br>\n",
    "2. 멤버 변수의 종류 <br>\n",
    "    ** 클래스 변수: 객체를 통틀어 하나만 생성되고 모든 객체가 공유하는 변수 <br>\n",
    "    ** 인스턴스 변수: 생성되는 객체 즉 인스턴스별로 별도로 생성되는 변수 <br>\n",
    "    ** 주요 키워드: self가 적용된 변수는 모두 다 인스턴스 변수 <br>\n",
    "3. 접근자: 정보 은닉 및 유효성 검증을 위해 private으로 정의하는 방법 (변수명 앞단에 __ 선언) <br>\n",
    "4. 특수 메소드"
   ]
  },
  {
   "cell_type": "markdown",
   "metadata": {},
   "source": [
    "### 멤버변수 관점에서 자바와 파이썬의 비교\n",
    "\n",
    "1. static 변수 - static 키워드로 선언 : 객체 생성없이 사용 가능\n",
    "2. instance 변수 - non-static으로 선언 : 객체 생성 필수 (instance)\n",
    "\n",
    "### 접근자 관점(access modifier)에서 자바와 파이썬의 비교\n",
    "\n",
    "1. private/default/protected/public\n",
    "\n",
    "### 주요 용어\n",
    "\n",
    "1. 메소드 : 클래스 내부에 구현되는 기능 <br>\n",
    "2. 함수 : 클래스와 독립적으로 구현되는 기능 <br>\n"
   ]
  },
  {
   "cell_type": "markdown",
   "metadata": {},
   "source": [
    "### **파이썬 class 개발 문법**\n",
    "\n",
    "1. class 키워드\n",
    "2. 생성자 : \\__init__(self)\n",
    "3. 클래스 내 구현하는 함수의 첫째 parameter : self\n",
    "4. 멤버변수 선언 문법 : init() 내부에 self.변수명"
   ]
  },
  {
   "cell_type": "markdown",
   "metadata": {},
   "source": [
    "### 인스턴스 및 클래스 변수\n",
    "\n",
    "#### 독립된 함수 개발 및 호출, 클래스 내부에 구현하는 내장 함수"
   ]
  },
  {
   "cell_type": "code",
   "execution_count": null,
   "metadata": {},
   "outputs": [],
   "source": [
    "# 독립적인 함수\n",
    "def getIntValue():\n",
    "    print('클래스 외부의 getIntValue() 함수')\n",
    "    return 20"
   ]
  },
  {
   "cell_type": "code",
   "execution_count": null,
   "metadata": {},
   "outputs": [],
   "source": [
    "data = getIntValue()\n",
    "data"
   ]
  },
  {
   "cell_type": "code",
   "execution_count": null,
   "metadata": {},
   "outputs": [],
   "source": [
    "# 사용자 정의 클래스 + 메소드, 변수 -> class 변수\n",
    "class UserClass:\n",
    "    # 생성자\n",
    "    def __init__(self, data):\n",
    "        # instance 변수 선언\n",
    "        self.instanceVar = data\n",
    "        \n",
    "        print('생성자')\n",
    "        \n",
    "    # 멤버변수값 반환하는 메소드\n",
    "    # 객체 생성 직후 참조변수로만 호출 가능\n",
    "    def getInstanceVar(self):\n",
    "        return self.instanceVar\n",
    "    \n",
    "# 클래스 내 구현된 함수지만 self라는 인수값이 없으므로 해당 클래스에 종속되는 함수 X\n",
    "# 즉 외부함수\n",
    "# 호출은 (객체생성과 무관하게) 함수명으로만 호출\n",
    "def getInstanceVar2():\n",
    "    return 'data'\n",
    "\n",
    "# 개별 함수로 호출되는 것들은 클래스 내부에 개발하지 않는 것이 좋음"
   ]
  },
  {
   "cell_type": "code",
   "execution_count": null,
   "metadata": {},
   "outputs": [],
   "source": [
    "# 호출해보기\n",
    "i1 = UserClass('변수')\n",
    "data = i1.getInstanceVar()\n",
    "print(data)"
   ]
  },
  {
   "cell_type": "code",
   "execution_count": null,
   "metadata": {},
   "outputs": [],
   "source": [
    "# 호출해보기\n",
    "d = UserClass('data')\n",
    "data1 = d.getInstanceVar()\n",
    "data1"
   ]
  },
  {
   "cell_type": "code",
   "execution_count": null,
   "metadata": {},
   "outputs": [],
   "source": [
    "data2 = getInstanceVar2()\n",
    "data2"
   ]
  },
  {
   "cell_type": "code",
   "execution_count": null,
   "metadata": {},
   "outputs": [],
   "source": [
    "# Person class 개발해보기\n",
    "# 멤버변수 : name, age\n",
    "# 생성자 parameter : name에 한해서만 기본 초기화\n",
    "# 단, 객체 생성 시 이름을 인수값으로 적용할 경우 멤버변수에 대입 (함수 parameter 초기화)\n",
    "# name 멤버변수값 수정(setName) name 멤버변수값 반환(getName)\n",
    "# 결과 출력 : 2개의 객체 생성 및 데이터값 출력\n",
    "\n",
    "class Person:\n",
    "    def __init__(self, name='삐삐', age=10):\n",
    "        self.name = name\n",
    "        self.age = age\n",
    "    \n",
    "    def setName(self, newName):\n",
    "        self.name = newName\n",
    "        \n",
    "    def getName(self):\n",
    "        return self.name\n",
    "    \n",
    "    def getAge(self):\n",
    "        return self.age"
   ]
  },
  {
   "cell_type": "code",
   "execution_count": null,
   "metadata": {},
   "outputs": [],
   "source": [
    "p1 = Person('아이유', 25)\n",
    "print(p1.getName(), p1.getAge())"
   ]
  },
  {
   "cell_type": "code",
   "execution_count": null,
   "metadata": {},
   "outputs": [],
   "source": [
    "p2 = Person(30)\n",
    "print(p2.getName())"
   ]
  },
  {
   "cell_type": "code",
   "execution_count": null,
   "metadata": {},
   "outputs": [],
   "source": [
    "p3 = Person()\n",
    "print(p3.getName(), p3.getAge())"
   ]
  },
  {
   "cell_type": "code",
   "execution_count": null,
   "metadata": {},
   "outputs": [],
   "source": [
    "# 자바는 객체 생성 시점에 멤버변수 자동 초기화\n",
    "# 파이썬은 객체 생성 시점에 명시적인 인수 초기화가 없는 한 자동 초기화 X"
   ]
  },
  {
   "cell_type": "code",
   "execution_count": null,
   "metadata": {},
   "outputs": [],
   "source": [
    "class Person1:\n",
    "    def __init__(self):\n",
    "        # 자동 초기화되지 않으므로 멤버변수 초기값 부여\n",
    "        self.name = 'Jennie'"
   ]
  },
  {
   "cell_type": "code",
   "execution_count": null,
   "metadata": {},
   "outputs": [],
   "source": [
    "p3 = Person1()"
   ]
  },
  {
   "cell_type": "code",
   "execution_count": 1,
   "metadata": {},
   "outputs": [],
   "source": [
    "# 파이썬 문법 이해를 위한 문제와 답\n",
    "# 제출자 : 송병길\n",
    "# 제출일 : 181113\n",
    "# 응시자 : 김희건, 박혜리\n",
    "\n",
    "\n",
    "class DA_member:\n",
    "    def __init__(self, capt = '종훈', num = 28):\n",
    "        self.capt = capt\n",
    "        self.num = num\n",
    "        \n",
    "    def setInfo(self, newCapt, newNum):\n",
    "        self.capt = newCapt\n",
    "        self.num = newNum\n",
    "        return self.capt, self.num\n",
    "        \n",
    "    def getAll(self):\n",
    "        return self.capt, self.num\n",
    "\n",
    "def SGB(mess, fromWho):\n",
    "        print('미래의 구글 캐나다 CEO, 종훈이 형에게..\\n\\n{}\\n\\n{}로부터'.format(mess, fromWho))"
   ]
  },
  {
   "cell_type": "code",
   "execution_count": 2,
   "metadata": {},
   "outputs": [
    {
     "name": "stdout",
     "output_type": "stream",
     "text": [
      "('종훈', 28)\n"
     ]
    }
   ],
   "source": [
    "p1 = DA_member()\n",
    "print(p1.getAll())"
   ]
  },
  {
   "cell_type": "code",
   "execution_count": 3,
   "metadata": {},
   "outputs": [
    {
     "name": "stdout",
     "output_type": "stream",
     "text": [
      "('동원', 28)\n"
     ]
    }
   ],
   "source": [
    "p2 = DA_member('동원', 28)\n",
    "print(p2.getAll())"
   ]
  },
  {
   "cell_type": "code",
   "execution_count": 4,
   "metadata": {
    "scrolled": true
   },
   "outputs": [
    {
     "name": "stdout",
     "output_type": "stream",
     "text": [
      "미래의 구글 캐나다 CEO, 종훈이 형에게..\n",
      "\n",
      "화이팅\n",
      "\n",
      "DA로부터\n"
     ]
    }
   ],
   "source": [
    "data = SGB('화이팅', 'DA')\n",
    "data"
   ]
  },
  {
   "cell_type": "code",
   "execution_count": 5,
   "metadata": {},
   "outputs": [],
   "source": [
    "# 파이썬 문법 이해를 위한 문제와 답\n",
    "# 제출자 : 김희건\n",
    "# 제출일 : 181113\n",
    "# 응시자 : 송병길, 박혜리\n",
    "\n",
    "\n",
    "def getIntValue():\n",
    "    print(\"맘모스 카페\\n\")\n",
    "    return Mammoth\n",
    "    \n",
    "class Mammoth:\n",
    "    def __init__(self, drink='바닐라라떼', price=3500):\n",
    "        self.drink =drink\n",
    "        self.price=price\n",
    "\n",
    "    def setDrink(self, newDrink):\n",
    "        return self.newDrink\n",
    "        \n",
    "    def getDrink(self):\n",
    "        return self.drink\n",
    "    \n",
    "    def setPrice(self, newPrice):\n",
    "        return self.newPrice\n",
    "    \n",
    "    def getPrice(self):\n",
    "        return self.price\n",
    "        \n",
    "        \n",
    "def getInstanceVar3():\n",
    "        return \"수정완료\""
   ]
  },
  {
   "cell_type": "code",
   "execution_count": 6,
   "metadata": {},
   "outputs": [
    {
     "name": "stdout",
     "output_type": "stream",
     "text": [
      "맘모스 카페\n",
      "\n"
     ]
    }
   ],
   "source": [
    "m1 = Mammoth()\n",
    "data = getIntValue()"
   ]
  },
  {
   "cell_type": "code",
   "execution_count": 7,
   "metadata": {},
   "outputs": [],
   "source": [
    "m1 = Mammoth('바닐라라떼', 2600)"
   ]
  },
  {
   "cell_type": "code",
   "execution_count": 8,
   "metadata": {},
   "outputs": [
    {
     "name": "stdout",
     "output_type": "stream",
     "text": [
      "바닐라라떼 2600\n"
     ]
    }
   ],
   "source": [
    "print(m1.getDrink(), m1.getPrice())"
   ]
  },
  {
   "cell_type": "code",
   "execution_count": 9,
   "metadata": {},
   "outputs": [
    {
     "data": {
      "text/plain": [
       "'수정완료'"
      ]
     },
     "execution_count": 9,
     "metadata": {},
     "output_type": "execute_result"
    }
   ],
   "source": [
    "data1 = getInstanceVar3()\n",
    "data1"
   ]
  },
  {
   "cell_type": "markdown",
   "metadata": {},
   "source": [
    "### Class 변수\n",
    "\n",
    "1. Class 내 선언되는 변수. 생성되는 모든 객체가 공유\n",
    "2. 문제 제시 후 직접 개발"
   ]
  },
  {
   "cell_type": "code",
   "execution_count": null,
   "metadata": {},
   "outputs": [],
   "source": [
    "# (참고) 자바에서 '객체 생성없이 실제 실행 시 사용 가능한 변수 호출 -> static + class명 + 변수명'\n",
    "# 파이썬에서는 같은 경우 'class 변수 호출 -> class명.변수명'\n",
    "\n",
    "class People:\n",
    "    no = 0              # class 멤버변수\n",
    "    def __init__(self, age=1):\n",
    "        People.no = People.no + 1\n",
    "        self.age = age  # instance 멤버변수"
   ]
  },
  {
   "cell_type": "code",
   "execution_count": null,
   "metadata": {},
   "outputs": [],
   "source": [
    "# no 변수 공간은 1개, age 변수는 (각 객체당 개별 생성하여) 2개\n",
    "p11 = People()\n",
    "print(p11.no)\n",
    "p12 = People()\n",
    "print(p11.no)\n",
    "print(p11.age)\n",
    "print(People.no)"
   ]
  },
  {
   "cell_type": "markdown",
   "metadata": {},
   "source": [
    "### Private 변수\n",
    "\n",
    "1. 문법 : __변수명 <br>\n",
    "2. 변수가 private인 경우 set/getXxx() 메소드 추가 구현 권장 <br>\n",
    " - 단, setXxx()는 유효성 검증 코드를 포함해야 함"
   ]
  },
  {
   "cell_type": "code",
   "execution_count": null,
   "metadata": {},
   "outputs": [],
   "source": [
    "# 외부에서 호출 불가능한 데이터 관리\n",
    "# age 등은 1 이상 유효값으로 저장\n",
    "# 유효성 검증 실행 후 대입\n",
    "# 주의사항 : 변수에는 직접 접근 불허 -> private 처리 (은닉성 encapsulation)\n",
    "\n",
    "class Animal:\n",
    "    def __init__(self, name = '고양이', age = 0):\n",
    "        self.name = name\n",
    "        self.__age = age"
   ]
  },
  {
   "cell_type": "code",
   "execution_count": null,
   "metadata": {},
   "outputs": [],
   "source": [
    "a1 = Animal()\n",
    "print(a1.name) # a1.age 는 오류 발생 (private)"
   ]
  },
  {
   "cell_type": "markdown",
   "metadata": {},
   "source": [
    "### 생성자와 소멸자\n",
    "\n",
    "> 1. __init__() : 객체 생성 시 호출 <br>\n",
    ">  생성자(constructor)는 객체가 생성될 때 객체를 기본값으로 초기화 <br>\n",
    "> 2. del() : 객체 삭제 시 자동 호출 <br>\n",
    ">  del 참조변수명으로 자동 호출"
   ]
  },
  {
   "cell_type": "code",
   "execution_count": null,
   "metadata": {},
   "outputs": [],
   "source": [
    "class Animal:\n",
    "    def __init__(self):\n",
    "        print('생성자-객체 생성 시 초기화 로직')\n",
    "    def __del__(self):\n",
    "        print('소멸자-자원반환 로직이 필요한 경우 개발')"
   ]
  },
  {
   "cell_type": "code",
   "execution_count": null,
   "metadata": {},
   "outputs": [],
   "source": [
    "a2 = Animal()"
   ]
  },
  {
   "cell_type": "code",
   "execution_count": null,
   "metadata": {},
   "outputs": [],
   "source": [
    "del a2"
   ]
  },
  {
   "cell_type": "markdown",
   "metadata": {},
   "source": [
    "### 특수 메소드\n",
    "\n",
    "1. \\__init__\n",
    "2. \\__str__\n",
    "3. \\__len__"
   ]
  },
  {
   "cell_type": "code",
   "execution_count": null,
   "metadata": {
    "scrolled": true
   },
   "outputs": [],
   "source": [
    "# 선생님이 참고로 보내주신 Book 함수\n",
    "\n",
    "class Book:\n",
    "    def __init__(self, title, author, pages):\n",
    "        self.title = title\n",
    "        self.author = author\n",
    "        self.pages = pages\n",
    "\n",
    "    def __str__(self):     # 자바의 toString()으로 print() 자동 호출\n",
    "        return \"제목:%s, 저자:%s, 페이지:%s\" % (self.title, self.author, self.pages)\n",
    "\n",
    "    def __len__(self):     # pages 값 반환 로직\n",
    "        return self.pages  # 재정의 시 가급적 길이 반환 로직으로 개발 권장\n",
    "\n",
    "book = Book(\"Data Structure\", \"Encore Kim\", 256)\n",
    "\n",
    "print(str(book))           # 동일 코드 print(book)\n",
    "print(len(book))"
   ]
  },
  {
   "cell_type": "code",
   "execution_count": null,
   "metadata": {},
   "outputs": [],
   "source": [
    "class SpecialMethod:\n",
    "    def __init__(self, x, y):\n",
    "        self.x = x\n",
    "        self.y = y\n",
    "    \n",
    "    def __add__(self, addX):    # 이 메소드를 보유한 객체의 x 멤버변수와 parameter로 유입되는 데이터를 더함\n",
    "        return self.x + addX"
   ]
  },
  {
   "cell_type": "code",
   "execution_count": null,
   "metadata": {},
   "outputs": [],
   "source": [
    "# SpecialMethod가 보유한 add라는 메소드 호출해서 사용해 보기\n"
   ]
  },
  {
   "cell_type": "code",
   "execution_count": 3,
   "metadata": {},
   "outputs": [],
   "source": [
    "class SpecialMethod2:\n",
    "    def __init__(self, x, y):\n",
    "        self.x = x\n",
    "        self.y = y\n",
    "                              # 객체들이 + 연산 시 자동 호출\n",
    "    def __add__(self, tous):  # 2개의 객체들이 보유한 x, y값들끼리 + 연산 (연산 시 자동 호출)\n",
    "        return SpecialMethod2(self.x + tous.x, self.y + tous.y)\n",
    "                              # 2개의 객체 멤버변수들 비교 True or False 반환\n",
    "    def __eq__(self, tous):   # 호출 시점은?\n",
    "        print('__eq__ 호출 확인')\n",
    "        return self.x == tous.x and self.y == tous.y\n",
    "    \n",
    "    def __str__(self):       # (x, y) 값 구조로 반환\n",
    "        return '(%d, %d)' % (self.x, self.y)"
   ]
  },
  {
   "cell_type": "code",
   "execution_count": 4,
   "metadata": {},
   "outputs": [
    {
     "name": "stdout",
     "output_type": "stream",
     "text": [
      "(40, 60)\n"
     ]
    }
   ],
   "source": [
    "# SpecialMethod2가 보유한 add라는 메소드 호출해서 사용해 보기\n",
    "# 단, 2개의 SpecialMethod2 객체들의 x값, y값들끼리 더하는 연산결과로 변환\n",
    "\n",
    "s21 = SpecialMethod2(10, 20)\n",
    "s22 = SpecialMethod2(30, 40)\n",
    "v = s21+s22\n",
    "print(v) # print(str(v)) # 목표 결과값은 (40, 60)"
   ]
  },
  {
   "cell_type": "code",
   "execution_count": 6,
   "metadata": {},
   "outputs": [
    {
     "name": "stdout",
     "output_type": "stream",
     "text": [
      "__eq__ 호출 확인\n",
      "False\n",
      "__eq__ 호출 확인\n",
      "True\n"
     ]
    }
   ],
   "source": [
    "print(s21 == s22)\n",
    "s23 = SpecialMethod2(30, 40)\n",
    "print(s22 == s23)"
   ]
  }
 ],
 "metadata": {
  "kernelspec": {
   "display_name": "Python 3",
   "language": "python",
   "name": "python3"
  },
  "language_info": {
   "codemirror_mode": {
    "name": "ipython",
    "version": 3
   },
   "file_extension": ".py",
   "mimetype": "text/x-python",
   "name": "python",
   "nbconvert_exporter": "python",
   "pygments_lexer": "ipython3",
   "version": "3.7.0"
  }
 },
 "nbformat": 4,
 "nbformat_minor": 2
}
