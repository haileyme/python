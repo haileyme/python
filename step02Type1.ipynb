{
 "cells": [
  {
   "cell_type": "markdown",
   "metadata": {},
   "source": [
    "# 자료형\n",
    "\n",
    "1. 파이썬은 인터프리터 언어\n",
    "2. 타입: bool, integer, float, string 등\n",
    "3. 파이썬 철학 (import this)"
   ]
  },
  {
   "cell_type": "code",
   "execution_count": 2,
   "metadata": {},
   "outputs": [],
   "source": [
    "import this"
   ]
  },
  {
   "cell_type": "code",
   "execution_count": 3,
   "metadata": {},
   "outputs": [
    {
     "name": "stdout",
     "output_type": "stream",
     "text": [
      "1.8\n"
     ]
    }
   ],
   "source": [
    "print(9/5)"
   ]
  },
  {
   "cell_type": "code",
   "execution_count": 4,
   "metadata": {},
   "outputs": [
    {
     "name": "stdout",
     "output_type": "stream",
     "text": [
      "1\n"
     ]
    }
   ],
   "source": [
    "print(9//5)"
   ]
  },
  {
   "cell_type": "markdown",
   "metadata": {},
   "source": [
    "### 형 변환\n",
    "\n",
    "1. int() : 정수로 변환\n",
    "2. str() : 문자열로 변환\n",
    "3. float() : 실수로 변환"
   ]
  },
  {
   "cell_type": "code",
   "execution_count": 8,
   "metadata": {},
   "outputs": [
    {
     "name": "stdout",
     "output_type": "stream",
     "text": [
      "A2\n"
     ]
    }
   ],
   "source": [
    "# 문자열로 형 변환하려면 str() 사용\n",
    "# 정수 + 문자열 = 오류\n",
    "# str(정수) + 문자열 = 정상실행\n",
    "print('A'+str(2))"
   ]
  },
  {
   "cell_type": "code",
   "execution_count": 10,
   "metadata": {},
   "outputs": [
    {
     "data": {
      "text/plain": [
       "1.0"
      ]
     },
     "execution_count": 10,
     "metadata": {},
     "output_type": "execute_result"
    }
   ],
   "source": [
    "float(True)"
   ]
  },
  {
   "cell_type": "code",
   "execution_count": 12,
   "metadata": {},
   "outputs": [
    {
     "data": {
      "text/plain": [
       "1"
      ]
     },
     "execution_count": 12,
     "metadata": {},
     "output_type": "execute_result"
    }
   ],
   "source": [
    "# int('True') = 오류\n",
    "int(True)"
   ]
  },
  {
   "cell_type": "markdown",
   "metadata": {},
   "source": [
    "### Lab1 - 자동 판매기를 시뮬레이션하는 프로그램 만들기\n",
    "\n",
    "#### 문제\n",
    "사용자는 1000원짜리 지폐와 500원짜리 동전, 100원짜리 동전을 사용할 수 있고, 물건값을 입력하고 1000원권, 500원 짜리 동전, 100원짜리 동전을 사용할 수 있다.\n",
    "물건값을 입력하고 1000원권, 500원짜리 동전, 100원짜리 동전의 개수를 입력하면 거스름돈을 계산하여서 동전으로 변환한다\n",
    "\n",
    "#### 출력 결과 예시\n",
    "물건값을 입력하시오: 750 <br>\n",
    "1000원 지폐개수: 1 <br>\n",
    "500원 동전개수: 0 <br>\n",
    "100원 동전개수: 0 <br><br>\n",
    "출력 500원= 0<br>\n",
    "100원= 2<br>\n",
    "10원= 5<br>\n",
    "1원= 0"
   ]
  },
  {
   "cell_type": "code",
   "execution_count": null,
   "metadata": {},
   "outputs": [],
   "source": [
    "### itemPrice = int(input(\"물건값을 입력하시오: \"))\n",
    "note = int(input(\"1000원 지폐개수: \"))\n",
    "coin500 = int(input(\"500원 동전개수: \"))\n",
    "coin100 = int(input(\"100원 동전개수: \"))\n",
    "\n",
    "# 환불액 총핵 = 입력된 총 금액 - 물건값\n",
    "change = note*1000 + coin500*500 + coin100*100 - itemPrice\n",
    "\n",
    "# 거스름돈(500원 동전 개수) 계산\n",
    "nCoin500 = change//500\n",
    "change = change%500\n",
    "\n",
    "# 거스름돈(100원 동전 개수) 계산\n",
    "nCoin100 = change//100\n",
    "change = change%100\n",
    "\n",
    "# 거스름돈(10원 동전 개수) 계산\n",
    "nCoin10 = change//10\n",
    "change = change%10\n",
    "\n",
    "# 거스름돈(1원 동전 개수) 계산\n",
    "nCoin1 = change\n",
    "\n",
    "print(\"500원=\", nCoin500, \"100원=\", nCoin100, \"10원=\", nCoin10, \"1원=\", nCoin1)"
   ]
  },
  {
   "cell_type": "markdown",
   "metadata": {},
   "source": [
    "### 문자열\n",
    "\n",
    "1. 문자들의 순서 있는 집합\n",
    "- 여러 줄로 이루어진 문자열 표현도 가능 - 단일, 쌍따옴표<br>\n",
    "- print 함수 사용 시 특수 기호로 처리 가능 - \\r<br>\n",
    "- str() 문자열로 형 변환<br>\n",
    "- 문자열 반복<br>\n",
    "- 문자열 indexing<br>\n",
    "- 문자열 slicing (문자열 일부 추출)<br>\n",
    "- 문자열 내장 함수<br><br>\n",
    "\n",
    "> 참고\n",
    "> (): space가 구분자이며 삭제<br>\n",
    "> ('표기') : 표기가 구분자<br>\n",
    "> ('표기1 표기2') : 2개 모두 구분자<br><br><br>\n",
    "> - 참고문서 : https://docs.python.org/3.6/library/stdtypes.html#text-sequence-type-str"
   ]
  },
  {
   "cell_type": "code",
   "execution_count": 2,
   "metadata": {},
   "outputs": [],
   "source": [
    "# r 표기에 따른 차이점 파악\n",
    "data = '문자\\a열'\n",
    "data1 = r'문자\\a열'\n",
    "# ''' 주석 ''' 도 문자열로 표현 가능\n",
    "data2 = '''문자열'''"
   ]
  },
  {
   "cell_type": "code",
   "execution_count": 32,
   "metadata": {},
   "outputs": [
    {
     "name": "stdout",
     "output_type": "stream",
     "text": [
      "문자\u0007열\n"
     ]
    }
   ],
   "source": [
    "print(data)"
   ]
  },
  {
   "cell_type": "code",
   "execution_count": 33,
   "metadata": {},
   "outputs": [
    {
     "name": "stdout",
     "output_type": "stream",
     "text": [
      "문자\\a열\n"
     ]
    }
   ],
   "source": [
    "print(data1)"
   ]
  },
  {
   "cell_type": "code",
   "execution_count": 19,
   "metadata": {},
   "outputs": [
    {
     "name": "stdout",
     "output_type": "stream",
     "text": [
      "문자열\n"
     ]
    }
   ],
   "source": [
    "print(data2)"
   ]
  },
  {
   "cell_type": "code",
   "execution_count": 34,
   "metadata": {},
   "outputs": [
    {
     "name": "stdout",
     "output_type": "stream",
     "text": [
      "--------------------\n"
     ]
    }
   ],
   "source": [
    "# - 표기를 곱하기 연산(*) 통해 20번 출력\n",
    "print('-'*20)"
   ]
  },
  {
   "cell_type": "code",
   "execution_count": 37,
   "metadata": {},
   "outputs": [
    {
     "name": "stdout",
     "output_type": "stream",
     "text": [
      "확인 값\n"
     ]
    }
   ],
   "source": [
    "data = \"값\"\n",
    "print('확인 %s' % data)"
   ]
  },
  {
   "cell_type": "code",
   "execution_count": 48,
   "metadata": {},
   "outputs": [],
   "source": [
    "# 2개의 인수 값을 받고 %s 2개 사용하여 출력하기\n",
    "# 출력 데이터 : 메시지 값1, 값2\n",
    "\n",
    "def twoPrint(d1, d2):\n",
    "    print(\"안녕 %s, %s\" % (d1, d2))"
   ]
  },
  {
   "cell_type": "code",
   "execution_count": 49,
   "metadata": {},
   "outputs": [
    {
     "name": "stdout",
     "output_type": "stream",
     "text": [
      "안녕 3, 5\n"
     ]
    }
   ],
   "source": [
    "twoPrint(3, 5)"
   ]
  },
  {
   "cell_type": "code",
   "execution_count": 51,
   "metadata": {},
   "outputs": [
    {
     "name": "stdout",
     "output_type": "stream",
     "text": [
      "안녕 10, 100\n"
     ]
    }
   ],
   "source": [
    "twoPrint(10, 100)"
   ]
  },
  {
   "cell_type": "code",
   "execution_count": 56,
   "metadata": {},
   "outputs": [
    {
     "name": "stdout",
     "output_type": "stream",
     "text": [
      "A\n",
      "BC\n"
     ]
    }
   ],
   "source": [
    "# 문자열 indexing\n",
    "data = 'ABCEDEF'\n",
    "print(data[0])\n",
    "print(data[1:3])"
   ]
  },
  {
   "cell_type": "code",
   "execution_count": 65,
   "metadata": {},
   "outputs": [
    {
     "name": "stdout",
     "output_type": "stream",
     "text": [
      "ABCEDEF\n",
      "ACDF\n",
      "FEDECBA\n",
      "FDCA\n"
     ]
    }
   ],
   "source": [
    "# 문자열 부분 순서(역순) 추출\n",
    "print(data[::1])\n",
    "print(data[::2])\n",
    "print(data[::-1])\n",
    "print(data[::-2])"
   ]
  },
  {
   "cell_type": "code",
   "execution_count": 66,
   "metadata": {},
   "outputs": [
    {
     "name": "stdout",
     "output_type": "stream",
     "text": [
      "2\n"
     ]
    }
   ],
   "source": [
    "# 문자열 위치\n",
    "print(data.find('C'))"
   ]
  },
  {
   "cell_type": "code",
   "execution_count": 71,
   "metadata": {},
   "outputs": [
    {
     "name": "stdout",
     "output_type": "stream",
     "text": [
      "WELCOME TO MY WORLD\n",
      "welcome to my world\n",
      "Welcome To My World\n"
     ]
    }
   ],
   "source": [
    "data = 'wElCoMe tO mY wOrLD'\n",
    "print(data.upper())\n",
    "print(data.lower())\n",
    "print(data.title())"
   ]
  },
  {
   "cell_type": "code",
   "execution_count": 77,
   "metadata": {},
   "outputs": [
    {
     "data": {
      "text/plain": [
       "2"
      ]
     },
     "execution_count": 77,
     "metadata": {},
     "output_type": "execute_result"
    }
   ],
   "source": [
    "# 문자열 내 동일 단어 개수 세기\n",
    "data = 'python likes me and I like you'\n",
    "data.count('like')"
   ]
  },
  {
   "cell_type": "code",
   "execution_count": 82,
   "metadata": {},
   "outputs": [
    {
     "name": "stdout",
     "output_type": "stream",
     "text": [
      "True\n",
      "False\n"
     ]
    }
   ],
   "source": [
    "# 문자열 시작과 끝 단어 검증\n",
    "print(data.startswith('python'))\n",
    "print(data.endswith('me'))"
   ]
  },
  {
   "cell_type": "code",
   "execution_count": 90,
   "metadata": {},
   "outputs": [
    {
     "name": "stdout",
     "output_type": "stream",
     "text": [
      "  spring summer autumn winter  \n",
      "spring summer autumn winter\n",
      "spring summer autumn winter  \n",
      "  spring summer autumn winter\n"
     ]
    }
   ],
   "source": [
    "# 문자열 내 양쪽 여백 제거\n",
    "s1 = '  spring summer autumn winter  '\n",
    "print(s1)\n",
    "print(s1.strip())\n",
    "print(s1.lstrip())\n",
    "print(s1.rstrip())"
   ]
  },
  {
   "cell_type": "code",
   "execution_count": 109,
   "metadata": {},
   "outputs": [
    {
     "data": {
      "text/plain": [
       "'맛있는 라떼를 마시고 싶다~~~'"
      ]
     },
     "execution_count": 109,
     "metadata": {},
     "output_type": "execute_result"
    }
   ],
   "source": [
    "# 문장만 추출하기\n",
    "s2 = '<><><><><><>맛있는 라떼를 마시고 싶다~~~<><><><><><>'\n",
    "s2.strip('<>')"
   ]
  },
  {
   "cell_type": "code",
   "execution_count": 110,
   "metadata": {},
   "outputs": [
    {
     "data": {
      "text/plain": [
       "['', '', '', '', '', '', '맛있는 라떼를 마시고 싶다~~~', '', '', '', '', '', '']"
      ]
     },
     "execution_count": 110,
     "metadata": {},
     "output_type": "execute_result"
    }
   ],
   "source": [
    "s2.split('<>')"
   ]
  },
  {
   "cell_type": "code",
   "execution_count": 112,
   "metadata": {},
   "outputs": [
    {
     "name": "stdout",
     "output_type": "stream",
     "text": [
      "['맛있는', '라떼를', '마시고', '싶다~~~']\n"
     ]
    }
   ],
   "source": [
    "# s2가 참조하는 데이터를 '맛있는', '라떼를', '마시고', '싶다~~~'로 나누어 처리하기\n",
    "s3 = s2.strip('<>')\n",
    "print(s3.split(' '))"
   ]
  },
  {
   "cell_type": "code",
   "execution_count": 129,
   "metadata": {},
   "outputs": [
    {
     "data": {
      "text/plain": [
       "'맛있는 라떼를 마시고 싶다'"
      ]
     },
     "execution_count": 129,
     "metadata": {},
     "output_type": "execute_result"
    }
   ],
   "source": [
    "# 한글 문장만 추출해내기\n",
    "s4 = s3.rstrip('~')\n",
    "s4"
   ]
  },
  {
   "cell_type": "code",
   "execution_count": 131,
   "metadata": {},
   "outputs": [
    {
     "data": {
      "text/plain": [
       "'맛있는 라떼를 마시고 싶다'"
      ]
     },
     "execution_count": 131,
     "metadata": {},
     "output_type": "execute_result"
    }
   ],
   "source": [
    "# 사실 한 번에 가능\n",
    "s5 = s2.strip('<> ~')\n",
    "s5"
   ]
  },
  {
   "cell_type": "code",
   "execution_count": 136,
   "metadata": {},
   "outputs": [
    {
     "name": "stdout",
     "output_type": "stream",
     "text": [
      "< > < > < > < > < > < > 맛 있 는   라 떼 를   마 시 고   싶 다 ~ ~ ~ < > < > < > < > < > < >\n",
      "<:>:<:>:<:>:<:>:<:>:<:>:맛:있:는: :라:떼:를: :마:시:고: :싶:다:~:~:~:<:>:<:>:<:>:<:>:<:>:<:>\n",
      "['맛있는', '라떼를', '마시고', '싶다']\n",
      "맛있는\n",
      "라떼를\n",
      "마시고\n",
      "싶다\n"
     ]
    }
   ],
   "source": [
    "# join 이용하여 음절마다 특정 글자 끼워넣기\n",
    "print(' '.join(s2))\n",
    "print(':'.join(s2))\n",
    "print(s4.split(' '))\n",
    "print('\\n'.join(s4.split(' ')))"
   ]
  },
  {
   "cell_type": "code",
   "execution_count": 141,
   "metadata": {},
   "outputs": [
    {
     "name": "stdout",
     "output_type": "stream",
     "text": [
      "b'data'\n",
      "data\n"
     ]
    }
   ],
   "source": [
    "# 문자열 데이터를 encode & decode\n",
    "# encoding : unicode를 문자열의 byte로 변환\n",
    "# unicode : 전 세계에서 사용되는 문자들을 표준화 한 것\n",
    "s = 'data'.encode()\n",
    "print(s)\n",
    "s = s.decode()\n",
    "print(s)"
   ]
  },
  {
   "cell_type": "code",
   "execution_count": 143,
   "metadata": {},
   "outputs": [
    {
     "data": {
      "text/plain": [
       "4"
      ]
     },
     "execution_count": 143,
     "metadata": {},
     "output_type": "execute_result"
    }
   ],
   "source": [
    "len(s)"
   ]
  },
  {
   "cell_type": "code",
   "execution_count": 147,
   "metadata": {},
   "outputs": [
    {
     "data": {
      "text/plain": [
       "'00AbC'"
      ]
     },
     "execution_count": 147,
     "metadata": {},
     "output_type": "execute_result"
    }
   ],
   "source": [
    "# n자리로 표현하되 남은 공간은 0로 채움\n",
    "s1 = 'AbC'\n",
    "s1.zfill(5)"
   ]
  }
 ],
 "metadata": {
  "kernelspec": {
   "display_name": "Python 3",
   "language": "python",
   "name": "python3"
  },
  "language_info": {
   "codemirror_mode": {
    "name": "ipython",
    "version": 3
   },
   "file_extension": ".py",
   "mimetype": "text/x-python",
   "name": "python",
   "nbconvert_exporter": "python",
   "pygments_lexer": "ipython3",
   "version": "3.7.0"
  }
 },
 "nbformat": 4,
 "nbformat_minor": 2
}
