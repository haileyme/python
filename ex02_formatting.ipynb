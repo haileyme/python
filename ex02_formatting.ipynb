{
 "cells": [
  {
   "cell_type": "markdown",
   "metadata": {},
   "source": [
    "# 파이썬 형식화\n",
    "\n",
    "1. %s : 문자열\n",
    "2. %d : 정수\n",
    "3. %f : 부동소수점 실수\n",
    "\n",
    "   ===> 파이썬에서는 복잡한 출력을 위해, 문자열에 대한 형식화를 지원"
   ]
  },
  {
   "cell_type": "code",
   "execution_count": 3,
   "metadata": {},
   "outputs": [
    {
     "name": "stdout",
     "output_type": "stream",
     "text": [
      "encore %s\n"
     ]
    }
   ],
   "source": [
    "data1 = 'encore %s'\n",
    "print(data1)"
   ]
  },
  {
   "cell_type": "code",
   "execution_count": 7,
   "metadata": {},
   "outputs": [
    {
     "name": "stdout",
     "output_type": "stream",
     "text": [
      "encore DA\n"
     ]
    }
   ],
   "source": [
    "data1 = 'encore %s' % 'DA'\n",
    "print(data1)"
   ]
  },
  {
   "cell_type": "code",
   "execution_count": 32,
   "metadata": {},
   "outputs": [
    {
     "name": "stdout",
     "output_type": "stream",
     "text": [
      "2018 년 교육생 300\n"
     ]
    }
   ],
   "source": [
    "# 내가 만든 그냥 그런 문제\n",
    "\n",
    "data2 = '2018 %s' % '년 교육생 %s' % 300\n",
    "print(data2)"
   ]
  },
  {
   "cell_type": "code",
   "execution_count": 31,
   "metadata": {},
   "outputs": [
    {
     "name": "stdout",
     "output_type": "stream",
     "text": [
      "encore 수강생 56 명, 최종 취업률 95.500000 축하합니다\n"
     ]
    }
   ],
   "source": [
    "# 선생님이 만든 문제를 응용한 좋은 문제\n",
    "\n",
    "data22 = \"encore 수강생 %d 명, 최종 취업률 %f 축하합니다\" % (56, 95.5)\n",
    "print(data22)"
   ]
  }
 ],
 "metadata": {
  "kernelspec": {
   "display_name": "Python 3",
   "language": "python",
   "name": "python3"
  },
  "language_info": {
   "codemirror_mode": {
    "name": "ipython",
    "version": 3
   },
   "file_extension": ".py",
   "mimetype": "text/x-python",
   "name": "python",
   "nbconvert_exporter": "python",
   "pygments_lexer": "ipython3",
   "version": "3.7.0"
  }
 },
 "nbformat": 4,
 "nbformat_minor": 2
}
