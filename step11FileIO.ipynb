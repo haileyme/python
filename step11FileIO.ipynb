{
 "cells": [
  {
   "cell_type": "markdown",
   "metadata": {},
   "source": [
    "### 1. 데이터 입출력 - 논리적인 파일 구조\n",
    " - 기본 : 열기 -> 사용 -> 반환\n",
    "\n",
    ">1. 파일 안에는 바이트들이 순차적으로 저장되어 있고 맨 끝에는 EOF(end-of-file) 마커가 있음\n",
    "\n",
    ">2. 모든 파일은 입출력 동작이 발생하는 위치를 나타내는 위치 표시자(position indicator)를 가지고 있음\n",
    "\n",
    ">3. 텍스트 파일 읽고 쓰기<br>\n",
    "   - open(\"file 이름\", 파일 열기모드, 인코딩)<br>\n",
    "   - 파일 열기 모드<br>\n",
    "       1. r : 읽기 모드(파일의 처음부터 read)<br>\n",
    "       2. w : 쓰기 모드(파일의 처음부터 쓰기, 파일이 없으면 생성, 존재하면 기존 내용은 지우고 새로 작성)<br>\n",
    "       3. a : 추가 모드(파일의 끝에 씀, 파일이 없으면 생성)<br>\n",
    "       4. r+ : 읽기 쓰기 모드(파일에 읽고 쓸 수 있는 모드)\n",
    "    "
   ]
  },
  {
   "cell_type": "code",
   "execution_count": 6,
   "metadata": {},
   "outputs": [],
   "source": [
    "# output.txt 파일 생성 및 데이터 출력\n",
    "# 한글 데이터 고려 - utf-8\n",
    "\n",
    "# 출력 모드의 파일 생성\n",
    "f = open('output.txt', 'w', encoding='utf-8')\n",
    "\n",
    "# 데이터 출력\n",
    "f.write('데이터 출력 확인\\n')\n",
    "\n",
    "# 다음 라인에 한글 이름 출력\n",
    "f.write('다음 라인 맞나요')\n",
    "\n",
    "# 자원 반환\n",
    "f.close()"
   ]
  },
  {
   "cell_type": "code",
   "execution_count": 7,
   "metadata": {},
   "outputs": [],
   "source": [
    "# 자원 반환을 자동으로 적용되게 코드 수정\n",
    "\n",
    "with open('output2.txt', 'w', encoding='utf-8') as f:\n",
    "    f.write('데이터 출력\\n')\n",
    "    f.write('이렇게 with 사용하면 close 따로 안 써도 된다네요')"
   ]
  },
  {
   "cell_type": "code",
   "execution_count": 27,
   "metadata": {},
   "outputs": [],
   "source": [
    "# 줄 단위로 파일에 쓰기\n",
    "# list 데이터의 index를 자동 반영하여 데이터 하나씩만 추출 & 출력\n",
    "\n",
    "# 이렇게 하면 줄 바뀌지 않음\n",
    "lines = ['data1', 'data2', 'data3']\n",
    "with open('outpu3.txt', 'w') as f:\n",
    "    f.writelines(lines)\n",
    "\n",
    "\n",
    "# 이렇게 해야 줄 바뀌어서 나옴\n",
    "lines = ['data1\\n', 'data2\\n', 'data3\\n']\n",
    "with open('output3.txt', 'w') as f:\n",
    "    f.writelines(lines)\n",
    "    \n",
    "# join을 이용하여 줄 바꿀 수도 있음\n",
    "# 대용량의 데이터를 처리해야 할 때 더 효율적인 방법\n",
    "lines = ['data1', 'data2', 'data3']\n",
    "with open('output3.txt', 'w') as f:\n",
    "    f.writelines('\\n'.join(line2))"
   ]
  },
  {
   "cell_type": "code",
   "execution_count": 15,
   "metadata": {
    "scrolled": true
   },
   "outputs": [
    {
     "name": "stdout",
     "output_type": "stream",
     "text": [
      " C 드라이브의 볼륨: Windows\n",
      " 볼륨 일련 번호: B2BD-5184\n",
      "\n",
      " C:\\0.ITstudy\\6.Python 디렉터리\n",
      "\n",
      "2018-11-19  오후 01:46    <DIR>          .\n",
      "2018-11-19  오후 01:46    <DIR>          ..\n",
      "2018-11-19  오전 11:11    <DIR>          .ipynb_checkpoints\n",
      "2018-11-07  오후 04:47             3,351 6.Python.zip\n",
      "2018-11-07  오후 03:56             5,589 ex01_syntax.ipynb\n",
      "2018-11-07  오후 04:11             2,160 ex02_formatting.ipynb\n",
      "2018-11-07  오후 04:40             4,106 ex03_string.ipynb\n",
      "2018-11-19  오전 10:51               176 fibo.py\n",
      "2018-11-19  오후 01:43                15 outpu3.txt\n",
      "2018-11-19  오전 11:17                48 output.txt\n",
      "2018-11-19  오전 11:18                82 output2.txt\n",
      "2018-11-19  오후 01:46                21 output3.txt\n",
      "2018-11-09  오후 05:32             5,136 step01Calculation.ipynb\n",
      "2018-11-09  오후 05:30            14,688 step02Type1.ipynb\n",
      "2018-11-09  오후 05:08            15,436 step03ConditionLoop.ipynb\n",
      "2018-11-09  오후 05:23            34,104 step04Type2ListTupleDictSet.ipynb\n",
      "2018-11-12  오후 01:38            16,880 step05Function.ipynb\n",
      "2018-11-12  오후 03:24            11,694 step06Comprehension.ipynb\n",
      "2018-11-12  오후 04:15             5,744 step07Formatting.ipynb\n",
      "2018-11-13  오후 04:52            18,102 step08Class.ipynb\n",
      "2018-11-13  오후 04:52            11,491 step09OOP.ipynb\n",
      "2018-11-13  오후 03:30    <DIR>          STEP09~2\n",
      "2018-11-19  오전 11:08             4,875 step10Module.ipynb\n",
      "2018-11-19  오후 01:46             7,478 step11FileIO.ipynb\n",
      "2018-11-19  오전 10:52    <DIR>          __pycache__\n",
      "2018-11-09  오후 05:25    <DIR>          강사님\n",
      "              20개 파일             161,176 바이트\n",
      "               6개 디렉터리  79,343,038,464 바이트 남음\n"
     ]
    }
   ],
   "source": [
    "!dir"
   ]
  },
  {
   "cell_type": "code",
   "execution_count": 33,
   "metadata": {
    "scrolled": true
   },
   "outputs": [
    {
     "name": "stdout",
     "output_type": "stream",
     "text": [
      "data1\n",
      "data2\n",
      "data3\n"
     ]
    }
   ],
   "source": [
    "# output3.txt로부터 데이터 읽어오기\n",
    "with open('output3.txt', 'r') as f:\n",
    "    print(f.read())"
   ]
  },
  {
   "cell_type": "code",
   "execution_count": 49,
   "metadata": {
    "scrolled": true
   },
   "outputs": [
    {
     "name": "stdout",
     "output_type": "stream",
     "text": [
      "내 속엔 내가 너무도 많아 당신의 쉴 곳 없네\n",
      "내 속엔 헛된바램들로 당신의 편할 곳 없네\n",
      "내 속엔 내가 어쩔 수 없는 어둠 당신의 쉴 자리를 뺏고\n",
      "내 속엔 내가 이길 수 없는 슬픔 무성한 가시나무숲같네\n",
      "\n",
      "바람만 불면 그 메마른가지 서로 부대끼며 울어대고\n",
      "쉴곳을 찾아 지쳐 날아온 어린새들도 가시에 찔려 날아가고\n",
      "바람만 불면 외롭고 또 괴로워 슬픈 노래를 부르던 날이 많았는데\n",
      "\n",
      "내 속엔 내가 너무도 많아서 당신의 쉴 곳 없네\n",
      "\n",
      "\n",
      "바람만 불면 그 메마른가지 서로 부대끼며 울어대고\n",
      "쉴곳을 찾아 지쳐 날아온 어린새들도 가시에 찔려 날아가고\n",
      "바람만 불면 외롭고 또 괴로워 슬픈 노래를 부르던 날이 많았는데\n",
      "\n",
      "내 속엔 내가 너무도 많아서 당신의 쉴 곳 없네\n"
     ]
    }
   ],
   "source": [
    "# dataSet이라는 폴더 내 poem.txt 읽고 출력하기\n",
    "\n",
    "with open('dataSet/poem.txt', 'r', encoding='utf-8') as p:\n",
    "    print(p.read())"
   ]
  },
  {
   "cell_type": "code",
   "execution_count": 53,
   "metadata": {},
   "outputs": [
    {
     "name": "stdout",
     "output_type": "stream",
     "text": [
      "data1\n",
      "data2\n",
      "data3\n"
     ]
    }
   ],
   "source": [
    "# read = all lines\n",
    "with open('output3.txt', 'r') as f:\n",
    "    print(f.read())"
   ]
  },
  {
   "cell_type": "code",
   "execution_count": 52,
   "metadata": {},
   "outputs": [
    {
     "name": "stdout",
     "output_type": "stream",
     "text": [
      "data1\n",
      "\n"
     ]
    }
   ],
   "source": [
    "# readline = each line\n",
    "with open('output3.txt', 'r') as f:\n",
    "    print(f.readline())"
   ]
  },
  {
   "cell_type": "code",
   "execution_count": 51,
   "metadata": {},
   "outputs": [
    {
     "name": "stdout",
     "output_type": "stream",
     "text": [
      "['data1\\n', 'data2\\n', 'data3']\n"
     ]
    }
   ],
   "source": [
    "# readlines = save all of each lines into a list\n",
    "with open('output3.txt', 'r') as f:\n",
    "    print(f.readlines())"
   ]
  },
  {
   "cell_type": "markdown",
   "metadata": {},
   "source": [
    "#### Lab 1 - dataSet.txt 파일을 만들고 #으로 시작하는 문장만 출력해 보기 <br>\n",
    "Hint : startswith() "
   ]
  },
  {
   "cell_type": "code",
   "execution_count": 83,
   "metadata": {},
   "outputs": [
    {
     "name": "stdout",
     "output_type": "stream",
     "text": [
      "Overwriting dataSet.txt\n"
     ]
    }
   ],
   "source": [
    "%%file dataSet.txt\n",
    "\n",
    "NumPy is the fundamental package for scientific computing with Python. It contains among other things:\n",
    "\n",
    "# comment1..\n",
    "\n",
    "  * a powerful N-dimensional array object\n",
    "  * sophisticated (broadcasting) functions\n",
    "  * tools for integrating C/C++ and Fortran code\n",
    "  * useful linear algebra, Fourier transform, and random number capabilities\n",
    "\n",
    "# comment2..\n",
    "\n",
    "Besides its obvious scientific uses, NumPy can also be used as an efficient multi-dimensional container of generic data. Arbitrary data-types can be defined. This allows NumPy to seamlessly and speedily integrate with a wide variety of databases.\n",
    "\n",
    "Numpy is licensed under the BSD license, enabling reuse with few restrictions.\n"
   ]
  },
  {
   "cell_type": "code",
   "execution_count": 85,
   "metadata": {},
   "outputs": [
    {
     "name": "stdout",
     "output_type": "stream",
     "text": [
      "# comment1..\n",
      "\n",
      "# comment2..\n",
      "\n"
     ]
    }
   ],
   "source": [
    "# [for반복문 + open] 사용하여 필터링하기\n",
    "for line in open('dataSet.txt'):\n",
    "    if line.startswith('#'):\n",
    "        print(line)"
   ]
  },
  {
   "cell_type": "markdown",
   "metadata": {},
   "source": [
    "### Lab 2 - 줄 앞에 번호붙이기 \n",
    "\n",
    "> 텍스트 파일을 열어서 각 줄의 앞에 번호를 매겨서 다시 파일에 쓰는 프로그램을 작성해보자<br>\n",
    "> 참조 파일명 : dataSet/lineInsert.txt (dataSet 폴더에 있음)\n"
   ]
  },
  {
   "cell_type": "code",
   "execution_count": 116,
   "metadata": {},
   "outputs": [],
   "source": [
    "infile = open('dataSet/lineInsert.txt','r', encoding='utf-8')\n",
    "outfile = open('lineInsertoutput.txt','w', encoding='utf-8')\n",
    "\n",
    "i = 1\n",
    "for line in infile:\n",
    "    outfile.write(str(i)+'.'+line)\n",
    "    i += 1\n",
    "    \n",
    "infile.close()\n",
    "outfile.close()"
   ]
  },
  {
   "cell_type": "markdown",
   "metadata": {},
   "source": [
    "### Lab 3  - 매출 파일 처리\n",
    "> 텍스트 파일에 상점의 매출이 저장되어 있다. read해서 평균 매출과 총 매출을 계산한 후에 다른 파일에 출력하는 프로그램 작성해 보기<br>\n",
    "> 참조 파일명 : dataSet/sales.txt "
   ]
  },
  {
   "cell_type": "code",
   "execution_count": 112,
   "metadata": {},
   "outputs": [],
   "source": [
    "infilename = 'dataSet/sales.txt'\n",
    "outfilename = 'result.txt'\n",
    "\n",
    "# 입력과 출력을 위한 파일 열기\n",
    "infile = open(infilename, 'r')\n",
    "outfile = open(outfilename, 'w', encoding='utf-8')\n",
    "\n",
    "# 합계와 횟수를 위한 변수 선언\n",
    "sum = 0\n",
    "count = 0\n",
    "\n",
    "# 입력 파일에서 한 줄을 읽어 합계 계산\n",
    "for line in infile:\n",
    "    dailySale = int(line)\n",
    "    sum = sum + dailySale   # 수치 연산\n",
    "    count = count + 1\n",
    "    \n",
    "# 총매출과 일평균 매출을 출력파일에 쓰기\n",
    "outfile.write('총매출 = ' + str(sum) + '\\n')   # 문자열 간 결합 연산\n",
    "outfile.write('평균매출 = ' + str(sum/count))\n",
    "\n",
    "infile.close()\n",
    "outfile.close()"
   ]
  },
  {
   "cell_type": "markdown",
   "metadata": {},
   "source": [
    "### Lab4 - 파일의 데이터를 read해서 각 문자 횟수 세기\n",
    "\n",
    ">참조 파일명 : dataSet/dataSet.txt\n"
   ]
  },
  {
   "cell_type": "code",
   "execution_count": 117,
   "metadata": {},
   "outputs": [],
   "source": [
    "# 한 음절씩 count (dict 사용)\n",
    "# 여백 제거 (strip() 사용)\n",
    "# key(철자) : value(자수)"
   ]
  },
  {
   "cell_type": "code",
   "execution_count": 118,
   "metadata": {},
   "outputs": [
    {
     "name": "stdout",
     "output_type": "stream",
     "text": [
      "파일명을 입력하시오: dataSet.txt\n",
      "{'N': 5, 'u': 18, 'm': 18, 'P': 4, 'y': 11, ' ': 87, 'i': 49, 's': 39, 't': 42, 'h': 10, 'e': 55, 'f': 15, 'n': 44, 'd': 21, 'a': 46, 'l': 19, 'p': 8, 'c': 23, 'k': 1, 'g': 11, 'o': 32, 'r': 29, 'w': 7, '.': 9, 'I': 1, ':': 1, '#': 2, '1': 1, '*': 4, '-': 3, 'b': 11, 'j': 1, '(': 1, ')': 1, 'C': 2, '/': 1, '+': 2, 'F': 2, ',': 4, '2': 1, 'B': 2, 'v': 2, 'A': 1, 'T': 1, 'S': 1, 'D': 1}\n"
     ]
    }
   ],
   "source": [
    "filename = input('파일명을 입력하시오: ')\n",
    "infile = open(filename, 'r')\n",
    "freqs = {}\n",
    "\n",
    "# 파일의 각 줄에 추출\n",
    "for line in infile:\n",
    "    for char in line.strip():   # 한 라인에서 한 음절(철자)씩 추출\n",
    "        if char in freqs:       # 튜플에 존재 여부 확인\n",
    "            freqs[char] += 1    # 존재할 경우 +1\n",
    "        else:\n",
    "            freqs[char] = 1     # 미존재시 새로 저장\n",
    "\n",
    "print(freqs)\n",
    "infile.close()"
   ]
  }
 ],
 "metadata": {
  "kernelspec": {
   "display_name": "Python 3",
   "language": "python",
   "name": "python3"
  },
  "language_info": {
   "codemirror_mode": {
    "name": "ipython",
    "version": 3
   },
   "file_extension": ".py",
   "mimetype": "text/x-python",
   "name": "python",
   "nbconvert_exporter": "python",
   "pygments_lexer": "ipython3",
   "version": "3.7.0"
  }
 },
 "nbformat": 4,
 "nbformat_minor": 2
}
